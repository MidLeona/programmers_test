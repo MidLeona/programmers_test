{
  "nbformat": 4,
  "nbformat_minor": 0,
  "metadata": {
    "colab": {
      "provenance": [],
      "authorship_tag": "ABX9TyO4v5LpMsup1T9NGImchzm8"
    },
    "kernelspec": {
      "name": "python3",
      "display_name": "Python 3"
    },
    "language_info": {
      "name": "python"
    }
  },
  "cells": [
    {
      "cell_type": "markdown",
      "source": [
        "https://school.programmers.co.kr/learn/courses/30/lessons/12982"
      ],
      "metadata": {
        "id": "i2THgvE6q9mx"
      }
    },
    {
      "cell_type": "code",
      "source": [
        "def solution1(d, budget):\n",
        "    d.sort()\n",
        "    count = 0\n",
        "    for i in d:\n",
        "        if budget >= i:\n",
        "            budget -= i\n",
        "            count += 1\n",
        "        else:\n",
        "            break\n",
        "    return count"
      ],
      "metadata": {
        "id": "AcNmzoEsptht"
      },
      "execution_count": 4,
      "outputs": []
    },
    {
      "cell_type": "code",
      "source": [
        "def solution2(d, budget):\n",
        "    d.sort()\n",
        "    while budget < sum(d):\n",
        "        d.pop()\n",
        "    return len(d)"
      ],
      "metadata": {
        "collapsed": true,
        "id": "Gt0RB2yIqDE3"
      },
      "execution_count": 5,
      "outputs": []
    },
    {
      "cell_type": "code",
      "source": [
        "print(solution1([1,3,2,5,4],9))\n",
        "print(solution2([2,2,3,3],10))"
      ],
      "metadata": {
        "colab": {
          "base_uri": "https://localhost:8080/"
        },
        "id": "vqeR2zVdqmuk",
        "outputId": "38b5f852-46e9-4649-f2aa-ec5e84267f6d"
      },
      "execution_count": 6,
      "outputs": [
        {
          "output_type": "stream",
          "name": "stdout",
          "text": [
            "3\n",
            "4\n"
          ]
        }
      ]
    }
  ]
}