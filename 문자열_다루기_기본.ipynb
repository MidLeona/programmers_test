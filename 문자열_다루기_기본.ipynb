{
  "cells": [
    {
      "cell_type": "markdown",
      "source": [
        "https://school.programmers.co.kr/learn/courses/30/lessons/12918"
      ],
      "metadata": {
        "id": "jGHKr3h5RDR6"
      }
    },
    {
      "cell_type": "code",
      "source": [
        "def solution1(s):\n",
        "    if len(s) in (4,6) and s.isdigit():\n",
        "        return True\n",
        "    else : return False\n",
        "print(solution1(\"1234\"))\n",
        "print(solution1(\"a234\"))"
      ],
      "metadata": {
        "colab": {
          "base_uri": "https://localhost:8080/"
        },
        "id": "yRyQdZEhMGJI",
        "outputId": "4585655f-229e-4452-e05c-4bbef78924ba"
      },
      "execution_count": 59,
      "outputs": [
        {
          "output_type": "stream",
          "name": "stdout",
          "text": [
            "True\n",
            "False\n"
          ]
        }
      ]
    },
    {
      "cell_type": "code",
      "source": [
        "def solution2(s):\n",
        "    try:\n",
        "        int(s)\n",
        "    except:return False\n",
        "    return len(s) in (4,6)\n",
        "print(solution2(\"1234\"))\n",
        "print(solution2(\"a234\"))"
      ],
      "metadata": {
        "colab": {
          "base_uri": "https://localhost:8080/"
        },
        "id": "13q80xnlMsJZ",
        "outputId": "64113400-0c16-44a3-adab-b036f281166e"
      },
      "execution_count": 58,
      "outputs": [
        {
          "output_type": "stream",
          "name": "stdout",
          "text": [
            "True\n",
            "False\n"
          ]
        }
      ]
    },
    {
      "cell_type": "code",
      "source": [
        "solution3 = lambda s: len(s) in (4, 6) and s.isdigit() if not exec(\"try: int(s)\\nexcept: _ = False\") else False\n",
        "print(solution3(\"1234\"))\n",
        "print(solution3(\"a234\"))"
      ],
      "metadata": {
        "colab": {
          "base_uri": "https://localhost:8080/"
        },
        "id": "ravseb68NeIJ",
        "outputId": "e4d10b55-0b03-4831-ab15-9143b9dfb32b"
      },
      "execution_count": 57,
      "outputs": [
        {
          "output_type": "stream",
          "name": "stdout",
          "text": [
            "True\n",
            "False\n"
          ]
        }
      ]
    }
  ],
  "metadata": {
    "colab": {
      "name": "scratchpad",
      "provenance": []
    },
    "kernelspec": {
      "display_name": "Python 3",
      "name": "python3"
    }
  },
  "nbformat": 4,
  "nbformat_minor": 0
}