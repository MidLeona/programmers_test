{
  "nbformat": 4,
  "nbformat_minor": 0,
  "metadata": {
    "colab": {
      "provenance": [],
      "authorship_tag": "ABX9TyOZVogswVoYNnffw1/hKXjq"
    },
    "kernelspec": {
      "name": "python3",
      "display_name": "Python 3"
    },
    "language_info": {
      "name": "python"
    }
  },
  "cells": [
    {
      "cell_type": "code",
      "execution_count": 3,
      "metadata": {
        "colab": {
          "base_uri": "https://localhost:8080/"
        },
        "id": "ZYu93qFqvEPT",
        "outputId": "965abb58-5fb5-41f4-f076-8e719dbf2cf7"
      },
      "outputs": [
        {
          "output_type": "stream",
          "name": "stdout",
          "text": [
            "14\n"
          ]
        }
      ],
      "source": [
        "def solution(numbers):\n",
        "    number_list = list(range(10))\n",
        "    for i in range(10):\n",
        "        if i in numbers:\n",
        "            number_list.remove(i)\n",
        "    return sum(number_list)\n",
        "\n",
        "numbers = [1,2,3,4,6,7,8,0]\n",
        "print(solution(numbers))"
      ]
    }
  ]
}