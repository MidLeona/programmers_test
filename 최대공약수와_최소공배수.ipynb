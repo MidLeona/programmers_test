{
  "cells": [
    {
      "cell_type": "markdown",
      "source": [
        "https://school.programmers.co.kr/learn/courses/30/lessons/12940"
      ],
      "metadata": {
        "id": "fcAr1s0j-fN-"
      }
    },
    {
      "cell_type": "code",
      "source": [
        "def solution1(n, m):\n",
        "    answer = []\n",
        "    if n > m:\n",
        "        n,m = m,n\n",
        "    for i in range(m,0,-1):\n",
        "        if n%i == 0 and m%i == 0:\n",
        "            answer.append(i)\n",
        "        if len(answer)==1:\n",
        "                    break\n",
        "    for j in range(m,m*n+1,m):\n",
        "        if j%n == 0:\n",
        "            answer.append(j)\n",
        "        if len(answer) == 2:\n",
        "            break\n",
        "    return answer\n",
        "print(solution1(2,5))"
      ],
      "metadata": {
        "id": "60joVZ5Y-w3b",
        "outputId": "aa6ebd85-3afe-4729-f8e2-39ca979d7740",
        "colab": {
          "base_uri": "https://localhost:8080/"
        }
      },
      "execution_count": 21,
      "outputs": [
        {
          "output_type": "stream",
          "name": "stdout",
          "text": [
            "[1, 10]\n"
          ]
        }
      ]
    },
    {
      "cell_type": "code",
      "source": [
        "def solution2(n,m):\n",
        "    def gcd(n,m):\n",
        "        while m:\n",
        "            n , m = m, n%m\n",
        "        return n\n",
        "    def lcm(n,m):\n",
        "        return n*m // gcd(n,m)\n",
        "    return [gcd(n,m),lcm(n,m)]\n",
        "print(solution2(2,5))"
      ],
      "metadata": {
        "id": "is0GH1EOQLUx",
        "outputId": "e1fd9cd6-ca7b-4026-9953-0deb1f3a8d53",
        "colab": {
          "base_uri": "https://localhost:8080/"
        }
      },
      "execution_count": 19,
      "outputs": [
        {
          "output_type": "stream",
          "name": "stdout",
          "text": [
            "[1, 10]\n"
          ]
        }
      ]
    },
    {
      "cell_type": "code",
      "source": [
        "def solution3(n,m):\n",
        "    gcd = lambda x,y : y if not x%y else gcd(y,x%y)\n",
        "    lcm = lambda x,y : x*y//gcd(x,y)\n",
        "    return [gcd(n, m), lcm(n, m)]\n",
        "print(solution3(2,5))"
      ],
      "metadata": {
        "id": "ltv7zwyQSH6L",
        "outputId": "d8c8b8d1-b43b-4203-c5a8-35adefc29664",
        "colab": {
          "base_uri": "https://localhost:8080/"
        }
      },
      "execution_count": 20,
      "outputs": [
        {
          "output_type": "stream",
          "name": "stdout",
          "text": [
            "[1, 10]\n"
          ]
        }
      ]
    }
  ],
  "metadata": {
    "colab": {
      "name": "scratchpad",
      "provenance": []
    },
    "kernelspec": {
      "display_name": "Python 3",
      "name": "python3"
    }
  },
  "nbformat": 4,
  "nbformat_minor": 0
}