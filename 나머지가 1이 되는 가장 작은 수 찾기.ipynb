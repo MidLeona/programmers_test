{
  "cells": [
    {
      "cell_type": "code",
      "execution_count": 9,
      "metadata": {
        "colab": {
          "base_uri": "https://localhost:8080/"
        },
        "id": "lIYdn1woOS1n",
        "outputId": "5ffd92d8-5f77-412f-ba91-b6903875c199"
      },
      "outputs": [
        {
          "output_type": "stream",
          "name": "stdout",
          "text": [
            "3\n",
            "11\n"
          ]
        }
      ],
      "source": [
        "def solution(n):\n",
        "    x = 0\n",
        "    for i in range(1,n):\n",
        "        if n%i == 1:\n",
        "            x = i\n",
        "            if x !=0:\n",
        "                break\n",
        "    return x\n",
        "\n",
        "print(solution(10))\n",
        "print(solution(12))"
      ]
    }
  ],
  "metadata": {
    "colab": {
      "name": "scratchpad",
      "provenance": []
    },
    "kernelspec": {
      "display_name": "Python 3",
      "name": "python3"
    }
  },
  "nbformat": 4,
  "nbformat_minor": 0
}