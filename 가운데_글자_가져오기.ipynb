{
  "cells": [
    {
      "cell_type": "code",
      "execution_count": 22,
      "metadata": {
        "id": "lIYdn1woOS1n"
      },
      "outputs": [],
      "source": [
        "s1 = 'asadgh'\n",
        "s2 = 'qmwkdfs'"
      ]
    },
    {
      "cell_type": "code",
      "source": [
        "def solution(s):\n",
        "    x = len(s)//2\n",
        "    if len(s)%2==0:\n",
        "        return s[x-1:x+1]\n",
        "    else:\n",
        "        return s[x]\n",
        "print(solution(s1))\n",
        "print(solution(s2))"
      ],
      "metadata": {
        "id": "Wy16ANnYZ5Ae",
        "outputId": "6e64dc5c-b3af-4716-bfdd-157d5ed2fc0e",
        "colab": {
          "base_uri": "https://localhost:8080/"
        }
      },
      "execution_count": 23,
      "outputs": [
        {
          "output_type": "stream",
          "name": "stdout",
          "text": [
            "ad\n",
            "k\n"
          ]
        }
      ]
    }
  ],
  "metadata": {
    "colab": {
      "name": "scratchpad",
      "provenance": []
    },
    "kernelspec": {
      "display_name": "Python 3",
      "name": "python3"
    }
  },
  "nbformat": 4,
  "nbformat_minor": 0
}