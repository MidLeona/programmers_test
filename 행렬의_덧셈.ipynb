{
  "nbformat": 4,
  "nbformat_minor": 0,
  "metadata": {
    "colab": {
      "provenance": [],
      "authorship_tag": "ABX9TyNehRBaRPhGtIB7aKzV2Q99"
    },
    "kernelspec": {
      "name": "python3",
      "display_name": "Python 3"
    },
    "language_info": {
      "name": "python"
    }
  },
  "cells": [
    {
      "cell_type": "markdown",
      "source": [
        "https://school.programmers.co.kr/learn/courses/30/lessons/12950"
      ],
      "metadata": {
        "id": "YZjyQnJcKBMt"
      }
    },
    {
      "cell_type": "code",
      "execution_count": 23,
      "metadata": {
        "id": "bfyNC96u8Ato"
      },
      "outputs": [],
      "source": [
        "arr1 = [[1,2],[2,3],[3,4]] ; arr2 = [[3,4],[5,6],[7,8]]"
      ]
    },
    {
      "cell_type": "code",
      "source": [
        "def solution1(arr1, arr2):\n",
        "    answer = [[]for _ in range(len(arr1))]\n",
        "    for i in range(len(arr1)):\n",
        "        for j in range(len(arr1[i])):\n",
        "            answer[i].append(arr1[i][j]+arr2[i][j])\n",
        "    return answer"
      ],
      "metadata": {
        "id": "HHOt7oJl8DF_"
      },
      "execution_count": 24,
      "outputs": []
    },
    {
      "cell_type": "code",
      "source": [
        "def solution2(arr1,arr2):\n",
        "    answer = []\n",
        "    for i,j in zip(arr1,arr2):\n",
        "        answer_row = []\n",
        "        for x,y in zip(i,j):\n",
        "            answer_row.append(x+y)\n",
        "        answer.append(answer_row)\n",
        "    return answer"
      ],
      "metadata": {
        "id": "a4OmKjCS8SqX"
      },
      "execution_count": 25,
      "outputs": []
    },
    {
      "cell_type": "code",
      "source": [
        "def solution3(arr1,arr2):\n",
        "    return [[x+y for x,y in zip(i,j)]for i,j in zip(arr1,arr2)]"
      ],
      "metadata": {
        "id": "BZplI8o08vlW"
      },
      "execution_count": 26,
      "outputs": []
    },
    {
      "cell_type": "code",
      "source": [
        "solution4 = lambda arr1,arr2 : [[x+y for x,y in zip(i,j)]for i,j in zip(arr1,arr2)]"
      ],
      "metadata": {
        "id": "4BTgTr33-DCA"
      },
      "execution_count": 27,
      "outputs": []
    },
    {
      "cell_type": "code",
      "source": [
        "print(solution1(arr1,arr2),solution2(arr1,arr2),solution3(arr1,arr2),solution4(arr1,arr2),sep='\\n')"
      ],
      "metadata": {
        "colab": {
          "base_uri": "https://localhost:8080/"
        },
        "id": "7lwFMD6BA6H2",
        "outputId": "4c5d2d89-98b2-4a34-88b5-3fdcdc4ec315"
      },
      "execution_count": 30,
      "outputs": [
        {
          "output_type": "stream",
          "name": "stdout",
          "text": [
            "[[4, 6], [7, 9], [10, 12]]\n",
            "[[4, 6], [7, 9], [10, 12]]\n",
            "[[4, 6], [7, 9], [10, 12]]\n",
            "[[4, 6], [7, 9], [10, 12]]\n"
          ]
        }
      ]
    }
  ]
}