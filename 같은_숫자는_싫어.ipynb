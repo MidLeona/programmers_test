{
  "cells": [
    {
      "cell_type": "markdown",
      "source": [
        "https://school.programmers.co.kr/learn/courses/30/lessons/12906"
      ],
      "metadata": {
        "id": "p6xCo8fRv1oU"
      }
    },
    {
      "cell_type": "code",
      "execution_count": 20,
      "metadata": {
        "colab": {
          "base_uri": "https://localhost:8080/"
        },
        "id": "lIYdn1woOS1n",
        "outputId": "4ce0b23e-68f8-480f-ecb3-f6e95f2e884b"
      },
      "outputs": [
        {
          "output_type": "stream",
          "name": "stdout",
          "text": [
            "[4, 3]\n"
          ]
        }
      ],
      "source": [
        "def solution1(arr):\n",
        "    answer = [arr[0]]\n",
        "    for i in range(1,len(arr)):\n",
        "        if arr[i] != arr[i-1]:\n",
        "            answer.append(arr[i])\n",
        "    return answer\n",
        "\n",
        "arr_1 = [4,4,4,3,3]\n",
        "print(solution1(arr_1))"
      ]
    },
    {
      "cell_type": "code",
      "source": [
        "def solution2(arr):\n",
        "    answer = []\n",
        "    for i in answer:\n",
        "        if answer[-1:] == [i]: continue\n",
        "        answer.append(i)\n",
        "    return answer\n",
        "\n",
        "arr_2 = [1,1,3,3,0,1,1]\n",
        "print(solution1(arr_2))"
      ],
      "metadata": {
        "id": "nA59m0iwvVch",
        "outputId": "3bfbbc64-a760-4da7-de4c-b165303100ad",
        "colab": {
          "base_uri": "https://localhost:8080/"
        }
      },
      "execution_count": 21,
      "outputs": [
        {
          "output_type": "stream",
          "name": "stdout",
          "text": [
            "[1, 3, 0, 1]\n"
          ]
        }
      ]
    }
  ],
  "metadata": {
    "colab": {
      "name": "scratchpad",
      "provenance": []
    },
    "kernelspec": {
      "display_name": "Python 3",
      "name": "python3"
    }
  },
  "nbformat": 4,
  "nbformat_minor": 0
}