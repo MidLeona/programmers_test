{
  "cells": [
    {
      "cell_type": "code",
      "execution_count": 8,
      "metadata": {
        "colab": {
          "base_uri": "https://localhost:8080/"
        },
        "id": "lIYdn1woOS1n",
        "outputId": "d92e8c16-c6cc-4c3c-9b7e-8e21b6e97d8b"
      },
      "outputs": [
        {
          "output_type": "stream",
          "name": "stdout",
          "text": [
            "gfedcbZ\n"
          ]
        }
      ],
      "source": [
        "def solution(s):\n",
        "    list_s = list(s)\n",
        "    list_s.sort(reverse=1)\n",
        "    return ''.join(list_s)\n",
        "s = \"Zbcdefg\"\n",
        "print(solution(s))"
      ]
    }
  ],
  "metadata": {
    "colab": {
      "name": "scratchpad",
      "provenance": []
    },
    "kernelspec": {
      "display_name": "Python 3",
      "name": "python3"
    }
  },
  "nbformat": 4,
  "nbformat_minor": 0
}