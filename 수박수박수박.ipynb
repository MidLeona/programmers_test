{
  "cells": [
    {
      "cell_type": "code",
      "source": [
        "def solution(n):\n",
        "    x = []\n",
        "    for i in range(n):\n",
        "        if i % 2 == 1:\n",
        "            x.append('박')\n",
        "        else :\n",
        "            x.append('수')\n",
        "    return ''.join(x)\n",
        "n1 = 3\n",
        "n2 = 4\n",
        "print(solution(n1))\n",
        "print(solution(n2))"
      ],
      "metadata": {
        "colab": {
          "base_uri": "https://localhost:8080/"
        },
        "id": "e7_GDqrYfXga",
        "outputId": "55bf9c01-8e1e-45cf-9772-b82de74c0db8"
      },
      "execution_count": 27,
      "outputs": [
        {
          "output_type": "stream",
          "name": "stdout",
          "text": [
            "수박수\n",
            "수박수박\n"
          ]
        }
      ]
    }
  ],
  "metadata": {
    "colab": {
      "name": "scratchpad",
      "provenance": []
    },
    "kernelspec": {
      "display_name": "Python 3",
      "name": "python3"
    }
  },
  "nbformat": 4,
  "nbformat_minor": 0
}