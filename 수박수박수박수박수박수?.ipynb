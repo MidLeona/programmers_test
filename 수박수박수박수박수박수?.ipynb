{
  "cells": [
    {
      "cell_type": "code",
      "source": [
        "def solution(n):\n",
        "    x = []\n",
        "    for i in range(n):\n",
        "        if i % 2 == 1:\n",
        "            x.append('박')\n",
        "        else :\n",
        "            x.append('수')\n",
        "    return ''.join(x)\n",
        "n1 = 3\n",
        "n2 = 4\n",
        "print(solution(n1))\n",
        "print(solution(n2))"
      ],
      "metadata": {
        "id": "e7_GDqrYfXga",
        "outputId": "3a4c1c32-facb-4977-8953-3d41351093f3",
        "colab": {
          "base_uri": "https://localhost:8080/"
        }
      },
      "execution_count": 26,
      "outputs": [
        {
          "output_type": "stream",
          "name": "stdout",
          "text": [
            "수박수\n",
            "수박수박\n"
          ]
        }
      ]
    }
  ],
  "metadata": {
    "colab": {
      "name": "scratchpad",
      "provenance": []
    },
    "kernelspec": {
      "display_name": "Python 3",
      "name": "python3"
    }
  },
  "nbformat": 4,
  "nbformat_minor": 0
}