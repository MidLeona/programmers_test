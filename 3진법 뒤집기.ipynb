{
  "nbformat": 4,
  "nbformat_minor": 0,
  "metadata": {
    "colab": {
      "provenance": [],
      "authorship_tag": "ABX9TyP3RFoB2cBwmYOM0TgabngM"
    },
    "kernelspec": {
      "name": "python3",
      "display_name": "Python 3"
    },
    "language_info": {
      "name": "python"
    }
  },
  "cells": [
    {
      "cell_type": "markdown",
      "source": [
        "https://school.programmers.co.kr/learn/courses/30/lessons/68935"
      ],
      "metadata": {
        "id": "QKvnOd6_x0_2"
      }
    },
    {
      "cell_type": "code",
      "source": [
        "def solution1(n):\n",
        "    ternary = ''\n",
        "    while n:\n",
        "        ternary = str(n % 3) + ternary\n",
        "        n //= 3\n",
        "    return int(ternary[::-1],3)\n",
        "print(solution1(125))"
      ],
      "metadata": {
        "colab": {
          "base_uri": "https://localhost:8080/"
        },
        "collapsed": true,
        "id": "ThAwtbuktLpP",
        "outputId": "757a44d3-dbdf-4c1a-8c4a-e009ff218893"
      },
      "execution_count": 19,
      "outputs": [
        {
          "output_type": "stream",
          "name": "stdout",
          "text": [
            "229\n"
          ]
        }
      ]
    },
    {
      "cell_type": "code",
      "source": [
        "def solution2(n):\n",
        "    ternary = ''\n",
        "    while n:\n",
        "        ternary += str(n % 3)\n",
        "        n //= 3\n",
        "    return int(ternary, 3)\n",
        "print(solution2(125))"
      ],
      "metadata": {
        "colab": {
          "base_uri": "https://localhost:8080/"
        },
        "id": "DVxk1jJ-w68v",
        "outputId": "e12f7f01-e7e5-44ff-9842-b26c7fa78135"
      },
      "execution_count": 20,
      "outputs": [
        {
          "output_type": "stream",
          "name": "stdout",
          "text": [
            "229\n"
          ]
        }
      ]
    }
  ]
}