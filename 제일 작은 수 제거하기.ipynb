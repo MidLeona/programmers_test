{
  "nbformat": 4,
  "nbformat_minor": 0,
  "metadata": {
    "colab": {
      "provenance": [],
      "authorship_tag": "ABX9TyMd9HWEjVOUgfq8LUkx8DKZ"
    },
    "kernelspec": {
      "name": "python3",
      "display_name": "Python 3"
    },
    "language_info": {
      "name": "python"
    }
  },
  "cells": [
    {
      "cell_type": "code",
      "execution_count": 1,
      "metadata": {
        "id": "7ZXgvJR9d3g-"
      },
      "outputs": [],
      "source": [
        "x = [4,3,2,1]\n",
        "y = [10]"
      ]
    },
    {
      "cell_type": "code",
      "source": [
        "def solution(arr):\n",
        "    sorted_arr = sorted(arr)\n",
        "    sorted_arr.pop(0)\n",
        "    answer = [i for i in arr if i in sorted_arr]\n",
        "    return answer if sorted_arr != [] else [-1]\n",
        "\n",
        "print(solution(x))\n",
        "print(solution(y))"
      ],
      "metadata": {
        "colab": {
          "base_uri": "https://localhost:8080/"
        },
        "id": "WItMqLk5d6ka",
        "outputId": "8767287f-3f4b-46e4-da76-9875876d872f"
      },
      "execution_count": 2,
      "outputs": [
        {
          "output_type": "stream",
          "name": "stdout",
          "text": [
            "[4, 3, 2]\n",
            "[-1]\n"
          ]
        }
      ]
    },
    {
      "cell_type": "code",
      "source": [
        "def solution(arr):\n",
        "    arr.remove(min(arr))\n",
        "    return [-1] if len(arr) == 0 else arr\n",
        "\n",
        "print(solution(x))\n",
        "print(solution(y))"
      ],
      "metadata": {
        "colab": {
          "base_uri": "https://localhost:8080/"
        },
        "id": "mmhtmt4Td85G",
        "outputId": "2b9e2fd4-a412-4467-ab0a-0852dd465d2e"
      },
      "execution_count": 3,
      "outputs": [
        {
          "output_type": "stream",
          "name": "stdout",
          "text": [
            "[4, 3, 2]\n",
            "[-1]\n"
          ]
        }
      ]
    }
  ]
}