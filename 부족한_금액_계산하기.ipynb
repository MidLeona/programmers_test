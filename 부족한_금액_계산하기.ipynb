{
  "nbformat": 4,
  "nbformat_minor": 0,
  "metadata": {
    "colab": {
      "provenance": [],
      "authorship_tag": "ABX9TyO/Gkjys0Yc/ctF4X1A5UW/"
    },
    "kernelspec": {
      "name": "python3",
      "display_name": "Python 3"
    },
    "language_info": {
      "name": "python"
    }
  },
  "cells": [
    {
      "cell_type": "code",
      "execution_count": 6,
      "metadata": {
        "colab": {
          "base_uri": "https://localhost:8080/"
        },
        "id": "8VFsny7Ym0um",
        "outputId": "f08ffe0e-207b-4285-8563-e980101d86dc"
      },
      "outputs": [
        {
          "output_type": "stream",
          "name": "stdout",
          "text": [
            "10\n"
          ]
        }
      ],
      "source": [
        "def solution(price, money, count):\n",
        "    for i in range(1,count+1):\n",
        "        money = money - price*i\n",
        "    if money >= 0:\n",
        "        return 0\n",
        "    else : return abs(money)\n",
        "\n",
        "print(solution(3,20,4))"
      ]
    }
  ]
}