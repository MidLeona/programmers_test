{
  "cells": [
    {
      "cell_type": "code",
      "source": [
        "phone_number = '01012345678'"
      ],
      "metadata": {
        "id": "MsXImK_j7kcW"
      },
      "execution_count": null,
      "outputs": []
    },
    {
      "cell_type": "code",
      "source": [
        "def solution_1(s):\n",
        "    x = list(s)\n",
        "    for i in range(len(x[:-4])):\n",
        "        x[i] = '*'\n",
        "    return ''.join(x)\n",
        "print(solution_1(phone_number))"
      ],
      "metadata": {
        "id": "MXb1B2yG4Yi-",
        "outputId": "5b53d3c4-71e3-4cef-c4d9-bf33d82e1950",
        "colab": {
          "base_uri": "https://localhost:8080/"
        }
      },
      "execution_count": 39,
      "outputs": [
        {
          "output_type": "stream",
          "name": "stdout",
          "text": [
            "*******5678\n"
          ]
        }
      ]
    },
    {
      "cell_type": "code",
      "source": [
        "def solution_2(s):\n",
        "    return '*'*(len(s[:-4])) + s[-4:]\n",
        "print(solution_2(phone_number))"
      ],
      "metadata": {
        "id": "Vze1Rk007CAz",
        "outputId": "d1c28852-a4c2-4a3a-e767-e1e98e16a6c3",
        "colab": {
          "base_uri": "https://localhost:8080/"
        }
      },
      "execution_count": 43,
      "outputs": [
        {
          "output_type": "stream",
          "name": "stdout",
          "text": [
            "*******5678\n"
          ]
        }
      ]
    }
  ],
  "metadata": {
    "colab": {
      "name": "scratchpad",
      "provenance": []
    },
    "kernelspec": {
      "display_name": "Python 3",
      "name": "python3"
    }
  },
  "nbformat": 4,
  "nbformat_minor": 0
}