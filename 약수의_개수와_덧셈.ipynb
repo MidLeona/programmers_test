{
  "cells": [
    {
      "cell_type": "code",
      "source": [
        "def solution1(left, right):\n",
        "    sum = 0\n",
        "    for num in range(left, right+1):\n",
        "        count = 0\n",
        "        for i in range(1, num + 1):\n",
        "            if num%i == 0 :\n",
        "                count +=1\n",
        "        if count%2== 0:\n",
        "            sum += num\n",
        "        else :\n",
        "            sum -= num\n",
        "    return sum\n",
        "\n",
        "print(solution1(13,17))\n",
        "print(solution1(24,27))"
      ],
      "metadata": {
        "id": "RQvPF6n3ZN7I",
        "outputId": "11215e11-a945-4177-8ee9-81ffd7f23c9d",
        "colab": {
          "base_uri": "https://localhost:8080/"
        }
      },
      "execution_count": 8,
      "outputs": [
        {
          "output_type": "stream",
          "name": "stdout",
          "text": [
            "43\n",
            "52\n"
          ]
        }
      ]
    },
    {
      "cell_type": "code",
      "source": [
        "#제곱수의 약수는 홀수개이고 다른 모든 수의 약수는 짝수개이다. 따라서 제곱근이 정수인지 확인하는 방법으로도 작성할 수 있음.\n",
        "#https://school.programmers.co.kr/learn/courses/30/lessons/77884/solution_groups?language=python3\n",
        "def solution2(left, right):\n",
        "    sum = 0\n",
        "    for i in range(left, right+1):\n",
        "        if int(i**0.5) == i**0.5:\n",
        "            sum -= i\n",
        "        else : sum += i\n",
        "    return sum\n",
        "print(solution2(13,17))\n",
        "print(solution2(24,27))"
      ],
      "metadata": {
        "id": "_4QhD4pDkDmz",
        "outputId": "8f5a2e82-6813-4595-d4c7-626c0b2c761d",
        "colab": {
          "base_uri": "https://localhost:8080/"
        }
      },
      "execution_count": 9,
      "outputs": [
        {
          "output_type": "stream",
          "name": "stdout",
          "text": [
            "43\n",
            "52\n"
          ]
        }
      ]
    }
  ],
  "metadata": {
    "colab": {
      "name": "scratchpad",
      "provenance": []
    },
    "kernelspec": {
      "display_name": "Python 3",
      "name": "python3"
    }
  },
  "nbformat": 4,
  "nbformat_minor": 0
}