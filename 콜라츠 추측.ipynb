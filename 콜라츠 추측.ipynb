{
  "cells": [
    {
      "cell_type": "code",
      "execution_count": 61,
      "metadata": {
        "colab": {
          "base_uri": "https://localhost:8080/"
        },
        "id": "lIYdn1woOS1n",
        "outputId": "79826895-aff7-4156-8ecf-b68c88226db2"
      },
      "outputs": [
        {
          "output_type": "stream",
          "name": "stdout",
          "text": [
            "8\n",
            "-1\n",
            "0\n"
          ]
        }
      ],
      "source": [
        "def solution(num):\n",
        "    i = 0\n",
        "    if num == 1:\n",
        "        return 0\n",
        "    while True:\n",
        "        num = num/2 if num %2 == 0 else num*3+1\n",
        "        i +=1\n",
        "        if i == 500:\n",
        "            return -1\n",
        "        elif num == 1:\n",
        "            return i\n",
        "\n",
        "print(solution(6))\n",
        "print(solution(626331))\n",
        "print(solution(1))"
      ]
    }
  ],
  "metadata": {
    "colab": {
      "name": "scratchpad",
      "provenance": []
    },
    "kernelspec": {
      "display_name": "Python 3",
      "name": "python3"
    }
  },
  "nbformat": 4,
  "nbformat_minor": 0
}