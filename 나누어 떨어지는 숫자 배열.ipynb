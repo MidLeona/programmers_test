{
  "cells": [
    {
      "cell_type": "code",
      "execution_count": 26,
      "metadata": {
        "colab": {
          "base_uri": "https://localhost:8080/"
        },
        "id": "lIYdn1woOS1n",
        "outputId": "2ea7c066-81b3-4812-eb95-5b03d0422d7d"
      },
      "outputs": [
        {
          "output_type": "stream",
          "name": "stdout",
          "text": [
            "[5, 10, 15]\n",
            "[-1]\n"
          ]
        }
      ],
      "source": [
        "def solution(arr, divisor):\n",
        "    answer = []\n",
        "    for i in range(len(arr)):\n",
        "        if arr[i] % divisor == 0:\n",
        "            answer.append(arr[i])\n",
        "    if len(answer) == 0:\n",
        "        answer.append(-1)\n",
        "    else:\n",
        "        answer.sort()\n",
        "    return answer\n",
        "\n",
        "x = [10,5,15,12,14]\n",
        "y = 5\n",
        "print(solution(x,y))\n",
        "a = [3,2,6]\n",
        "b = 10\n",
        "print(solution(a,b))"
      ]
    }
  ],
  "metadata": {
    "colab": {
      "name": "scratchpad",
      "provenance": []
    },
    "kernelspec": {
      "display_name": "Python 3",
      "name": "python3"
    }
  },
  "nbformat": 4,
  "nbformat_minor": 0
}