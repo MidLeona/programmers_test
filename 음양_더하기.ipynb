{
  "cells": [
    {
      "cell_type": "code",
      "execution_count": 16,
      "metadata": {
        "colab": {
          "base_uri": "https://localhost:8080/"
        },
        "id": "lIYdn1woOS1n",
        "outputId": "fce1e757-da24-4909-e239-94b8cfe74644"
      },
      "outputs": [
        {
          "output_type": "stream",
          "name": "stdout",
          "text": [
            "9\n"
          ]
        }
      ],
      "source": [
        "def solution1(absolutes, signs):\n",
        "    sum = 0\n",
        "    for i in range(len(signs)):\n",
        "        if signs[i] == False:\n",
        "            absolutes[i] = -absolutes[i]\n",
        "        sum += absolutes[i]\n",
        "    return sum\n",
        "a = [1,3,5,7,9,2,4,6,8,10]\n",
        "b = [True,False,False,True,False,True,True,False,True,True]\n",
        "print(solution1(a,b))"
      ]
    },
    {
      "cell_type": "code",
      "source": [
        "def solution2(absolutes, signs):\n",
        "    return sum(absolutes if sign else -absolutes for absolutes, sign in zip(absolutes, signs))\n",
        "c = [1,3,5,7,9,2,4,6,8,10]\n",
        "d = [True,False,False,True,False,True,True,False,True,True]\n",
        "print(solution2(c,d))"
      ],
      "metadata": {
        "id": "WRs3Et44Rl4F",
        "outputId": "30cc3513-9513-4fdf-976c-376f0b789270",
        "colab": {
          "base_uri": "https://localhost:8080/"
        }
      },
      "execution_count": 15,
      "outputs": [
        {
          "output_type": "stream",
          "name": "stdout",
          "text": [
            "9\n"
          ]
        }
      ]
    }
  ],
  "metadata": {
    "colab": {
      "name": "scratchpad",
      "provenance": []
    },
    "kernelspec": {
      "display_name": "Python 3",
      "name": "python3"
    }
  },
  "nbformat": 4,
  "nbformat_minor": 0
}