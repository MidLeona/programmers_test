{
  "cells": [
    {
      "cell_type": "code",
      "execution_count": 34,
      "metadata": {
        "colab": {
          "base_uri": "https://localhost:8080/"
        },
        "id": "lIYdn1woOS1n",
        "outputId": "b34df5e5-7d24-4efe-8408-b48830db2f13"
      },
      "outputs": [
        {
          "output_type": "stream",
          "name": "stdout",
          "text": [
            "3\n"
          ]
        }
      ],
      "source": [
        "def solution(a, b):\n",
        "    sum = 0\n",
        "    for i in range(len(a)):\n",
        "        sum += a[i]*b[i]\n",
        "    return sum\n",
        "a = [1,2,3,4]\n",
        "b = [-3,-1,0,2]\n",
        "print(solution(a,b))"
      ]
    }
  ],
  "metadata": {
    "colab": {
      "name": "scratchpad",
      "provenance": []
    },
    "kernelspec": {
      "display_name": "Python 3",
      "name": "python3"
    }
  },
  "nbformat": 4,
  "nbformat_minor": 0
}